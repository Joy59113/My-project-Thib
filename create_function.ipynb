{
 "cells": [
  {
   "cell_type": "code",
   "execution_count": 2,
   "metadata": {},
   "outputs": [
    {
     "name": "stdout",
     "output_type": "stream",
     "text": [
      "la racine carrée de 25 est :5.0\n"
     ]
    }
   ],
   "source": [
    "def sqrt(number):\n",
    "    number = number **(1/2)\n",
    "    return number\n",
    "\n",
    "Wow_c_b1_les_math = sqrt(25)\n",
    "\n",
    "print(\"la racine carrée de 25 est :{}\" .format(Wow_c_b1_les_math))"
   ]
  }
 ],
 "metadata": {
  "kernelspec": {
   "display_name": "Python 3",
   "language": "python",
   "name": "python3"
  },
  "language_info": {
   "codemirror_mode": {
    "name": "ipython",
    "version": 3
   },
   "file_extension": ".py",
   "mimetype": "text/x-python",
   "name": "python",
   "nbconvert_exporter": "python",
   "pygments_lexer": "ipython3",
   "version": "3.12.4"
  }
 },
 "nbformat": 4,
 "nbformat_minor": 2
}

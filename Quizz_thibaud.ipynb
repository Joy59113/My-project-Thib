{
 "cells": [
  {
   "cell_type": "code",
   "execution_count": 1,
   "metadata": {},
   "outputs": [
    {
     "name": "stdout",
     "output_type": "stream",
     "text": [
      "Here you have your quiz responses !\n",
      "-------\n",
      "\n"
     ]
    },
    {
     "name": "stdout",
     "output_type": "stream",
     "text": [
      "Your answer : 1914\n",
      "Good job! This is the right answer\n",
      "\n"
     ]
    }
   ],
   "source": [
    "print(\"Here you have your quiz responses !\")\n",
    "print('-------')\n",
    "print()\n",
    "\n",
    "\n",
    "question1 = input(\"What year did the First World War begin?\")\n",
    "while question1 != \"1914\":\n",
    "    print('Your answer : {}'.format(question1))\n",
    "    print(\"Too bad! That is not the correct answer\")\n",
    "    question1 = input(\"What year did the First World War begin?\")\n",
    "print('Your answer : {}'.format(question1))\n",
    "print(\"Good job! This is the right answer\")\n",
    "print()\n",
    "\n",
    "\n",
    "question2 = input(\"where was the african nations' cup played in 2024?\")\n",
    "while question2 != \"Ivoiry coast\":\n",
    "    print('Your answer : {}'.format(question2))\n",
    "    print(\"Too bad! That is not the correct answer\")\n",
    "    question2 = input(\"where was the african nations' cup played in 2024?\")\n",
    "    print('Your answer : {}'.format(question2))\n",
    "    print(\"Good job! This is the right answer\")\n",
    "\n",
    "question3 = input(\"what is the world's largest mountain?\")\n",
    "while question3 != \"mont Everest\":\n",
    "    print('Your answer : {}'.format(question3))\n",
    "    print(\"Too bad! That is not the correct answer\")\n",
    "    question3 = input(\"what is the world's largest mountain?\")\n",
    "    print('Your answer : {}'.format(question3))\n",
    "    print(\"Good job! This is the right answer\")\n"
   ]
  },
  {
   "cell_type": "code",
   "execution_count": 1,
   "metadata": {},
   "outputs": [
    {
     "name": "stdout",
     "output_type": "stream",
     "text": [
      "modification ajoutée\n"
     ]
    }
   ],
   "source": [
    "print ('modification ajoutée')\n"
   ]
  },
  {
   "cell_type": "code",
   "execution_count": null,
   "metadata": {},
   "outputs": [],
   "source": []
  }
 ],
 "metadata": {
  "kernelspec": {
   "display_name": "Python 3",
   "language": "python",
   "name": "python3"
  },
  "language_info": {
   "codemirror_mode": {
    "name": "ipython",
    "version": 3
   },
   "file_extension": ".py",
   "mimetype": "text/x-python",
   "name": "python",
   "nbconvert_exporter": "python",
   "pygments_lexer": "ipython3",
   "version": "3.11.7"
  }
 },
 "nbformat": 4,
 "nbformat_minor": 2
}
